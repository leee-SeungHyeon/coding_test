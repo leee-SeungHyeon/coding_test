{
 "cells": [
  {
   "attachments": {},
   "cell_type": "markdown",
   "metadata": {},
   "source": [
    "## 1이 될때까지\n",
    "\n",
    "- 어떠한 수 N이 1이 될 때까지 다음의 두 과정 중 하나를 반복적으로 선택하여 수행한다.\n",
    "- 단, 두번째 연산은 N이 K로 나누어떨어질때만 선택할 수 있다.\n",
    "\n",
    "- N에서 1을 뺀다.\n",
    "- N을 K로 나눈다.\n",
    "- 예를 들어 N=17, K=4라고 하자. 1번 수행후 N의 값은 16이 된다. 이후에 2번을 두번 수행하면 N은 1이된다. 전체 과정을 수행한 횟수는 3이되고 N을 1로 만드는 최소 횟수를 구하라."
   ]
  },
  {
   "cell_type": "code",
   "execution_count": 4,
   "metadata": {},
   "outputs": [
    {
     "name": "stdout",
     "output_type": "stream",
     "text": [
      "3\n"
     ]
    }
   ],
   "source": [
    "n, k = map(int, input().split())\n",
    "\n",
    "count = 0\n",
    "\n",
    "while True:\n",
    "    \n",
    "    if n % k == 0: #나머지가 0이면 나누어 떨어진다는 뜻\n",
    "        n //= k #n/k해주고 그 수를 다시 n에 할당\n",
    "        count +=1 #수행 횟수 +1\n",
    "        if n == 1: #n이 1이면 break\n",
    "            break\n",
    "        \n",
    "    else:\n",
    "        n -= 1 #n/k가 나누어 떨어지지 않기 때문에 n-1을 해줌\n",
    "        count +=1 #수행 횟수 +1\n",
    "        if n == 1: #n이 1이면 break\n",
    "            break\n",
    "\n",
    "print(count)"
   ]
  },
  {
   "attachments": {},
   "cell_type": "markdown",
   "metadata": {},
   "source": [
    "- 하지만 N의 범위가 100억 이상의 아주 큰 수일 경우에는 N이 K의 배수가 되도록 효율적으로 한번에 빼는 방식이 필요"
   ]
  },
  {
   "cell_type": "code",
   "execution_count": 1,
   "metadata": {},
   "outputs": [
    {
     "name": "stdout",
     "output_type": "stream",
     "text": [
      "3\n"
     ]
    }
   ],
   "source": [
    "n, k = map(int, input().split())\n",
    "\n",
    "result = 0\n",
    "\n",
    "while True:\n",
    "    # N==K로 나누어 떨어지는 수가 될 때까지 1씩 빼기\n",
    "    target = (n//k) * k\n",
    "    result += (n-target)\n",
    "    n = target\n",
    "    \n",
    "    #N이 k보다 작을때(더 이상 나눌 수 없을때) 반복문 탈출\n",
    "    if n < k:\n",
    "        break\n",
    "    \n",
    "    result += 1\n",
    "    n //= k\n",
    "    \n",
    "result += (n-1)\n",
    "print(result)"
   ]
  },
  {
   "cell_type": "code",
   "execution_count": null,
   "metadata": {},
   "outputs": [],
   "source": []
  }
 ],
 "metadata": {
  "kernelspec": {
   "display_name": "py38",
   "language": "python",
   "name": "python3"
  },
  "language_info": {
   "codemirror_mode": {
    "name": "ipython",
    "version": 3
   },
   "file_extension": ".py",
   "mimetype": "text/x-python",
   "name": "python",
   "nbconvert_exporter": "python",
   "pygments_lexer": "ipython3",
   "version": "3.8.16"
  },
  "orig_nbformat": 4
 },
 "nbformat": 4,
 "nbformat_minor": 2
}
