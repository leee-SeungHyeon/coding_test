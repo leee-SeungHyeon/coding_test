{
 "cells": [
  {
   "attachments": {},
   "cell_type": "markdown",
   "metadata": {},
   "source": [
    "## 큰수의 법칙"
   ]
  },
  {
   "attachments": {},
   "cell_type": "markdown",
   "metadata": {},
   "source": [
    "- 다양한 수로 이루어진 배열이 있을때 주어진 수들을 M번 더하여 가장 큰 수를 만드는 법칙\n",
    "- 단, 배열의 특정한 인덱스에 해당하는 수가 연속해서 K번을 초과하여 더해질 수 없는 것이 특징\n",
    "- 예를 들어, 2,4,5,4,6으로 이루어진 배열이 있을때, N=5 / M=8 / K=3이라고 가정하자.\n",
    "- 특정한 인덱스의 수가 연속해서 3번까지만 더해질 수 있으믈 큰 수의 법칙에 따른 결과로 6+6+6+5+6+6+6+5 = 46이 됨"
   ]
  },
  {
   "cell_type": "code",
   "execution_count": 2,
   "metadata": {},
   "outputs": [
    {
     "name": "stdout",
     "output_type": "stream",
     "text": [
      "46\n"
     ]
    }
   ],
   "source": [
    "n, m, k = map(int, input().split())\n",
    "\n",
    "num = list(map(int, input().split()))\n",
    "\n",
    "num.sort(reverse=True)\n",
    "\n",
    "sum = 0\n",
    "\n",
    "while True:\n",
    "    for i in range(k):\n",
    "        if m == 0:\n",
    "            break\n",
    "        sum += num[0]\n",
    "        m -=1\n",
    "        \n",
    "    if m == 0:\n",
    "        break\n",
    "    sum += num[1]\n",
    "    m -= 1\n",
    "    \n",
    "print(sum)"
   ]
  }
 ],
 "metadata": {
  "kernelspec": {
   "display_name": "py38",
   "language": "python",
   "name": "python3"
  },
  "language_info": {
   "codemirror_mode": {
    "name": "ipython",
    "version": 3
   },
   "file_extension": ".py",
   "mimetype": "text/x-python",
   "name": "python",
   "nbconvert_exporter": "python",
   "pygments_lexer": "ipython3",
   "version": "3.8.16"
  },
  "orig_nbformat": 4
 },
 "nbformat": 4,
 "nbformat_minor": 2
}
