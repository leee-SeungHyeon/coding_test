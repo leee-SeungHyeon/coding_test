{
 "cells": [
  {
   "attachments": {},
   "cell_type": "markdown",
   "metadata": {},
   "source": [
    "## 상하좌우"
   ]
  },
  {
   "attachments": {},
   "cell_type": "markdown",
   "metadata": {},
   "source": [
    "여행가 A는 N X N 크기의 정사각형 공간 위에 서 있다. 이 공간은 1 X 1 크기의 정사각형으로 나누어져 있다. 가장 왼쪽 위 좌표는 (1,1)이며, 가장 오른쪽 아래 좌표는 (N,N)에 해당한다. 여행가 a는 상, 하, 좌, 우 방향으로 이동할 수 있으며, 시작 좌표는 항상 (1,1)이다. 우리 앞에는 여행가 a가 이동할 계획이 적힌 계획서가 놓여 있다.\n",
    "\n",
    "- 계획서에는 하나의 줄에 띄어쓰기를 기준으로 하여 L, R, U, D중 문자가 반복적으로 적혀 있음\n",
    "\n",
    "- L:왼쪽으로 한칸 이동\n",
    "\n",
    "- R:오른쪽으로 한칸 이동\n",
    "\n",
    "- U:위로 한칸 이동\n",
    "\n",
    "- D:밑으로 한칸 이동\n",
    "\n",
    "- 정사각형의 공간을 벗어나는 움직임은 무시됨"
   ]
  },
  {
   "attachments": {},
   "cell_type": "markdown",
   "metadata": {},
   "source": [
    "### 입력예시\n",
    "- 5\n",
    "- R R R U D D\n",
    "\n",
    "### 출력예시\n",
    "- 3 4"
   ]
  },
  {
   "cell_type": "code",
   "execution_count": 10,
   "metadata": {},
   "outputs": [
    {
     "name": "stdout",
     "output_type": "stream",
     "text": [
      "3 4\n"
     ]
    }
   ],
   "source": [
    "n = int(input())\n",
    "\n",
    "direction = input().split()\n",
    "\n",
    "row_max = n\n",
    "col_max = n\n",
    "\n",
    "row = 1\n",
    "col = 1\n",
    "\n",
    "for i in direction:\n",
    "    if i =='U':\n",
    "        if row == 1:\n",
    "            continue\n",
    "        else:\n",
    "            row -= 1\n",
    "\n",
    "    if i =='D':\n",
    "        if row == row_max:\n",
    "            continue\n",
    "        else:\n",
    "            row += 1\n",
    "            \n",
    "    if i =='L':\n",
    "        if col == 1:\n",
    "            continue\n",
    "        else:\n",
    "            col -= 1\n",
    "            \n",
    "    if i =='R':\n",
    "        if col == col_max:\n",
    "            continue\n",
    "        else:\n",
    "            col += 1    \n",
    "            \n",
    "print(row, col)        \n",
    "    "
   ]
  },
  {
   "cell_type": "code",
   "execution_count": 11,
   "metadata": {},
   "outputs": [
    {
     "name": "stdout",
     "output_type": "stream",
     "text": [
      "3 4\n"
     ]
    }
   ],
   "source": [
    "#책에서 푼 방식\n",
    "\n",
    "n = int(input())\n",
    "x, y = 1,1\n",
    "\n",
    "plans = input().split()\n",
    "\n",
    "#L,R,U,D에 따른 이동 방향\n",
    "dx = [0,0,-1,1] #x축\n",
    "dy = [-1,1,0,0] #y축\n",
    "\n",
    "move_type = ['L','R','U','D']\n",
    "\n",
    "#이동 계획 확인\n",
    "for plan in plans:\n",
    "    for i in range(len(move_type)):\n",
    "        if plan == move_type[i]:\n",
    "            nx = x + dx[i]\n",
    "            ny = y + dy[i]\n",
    "            \n",
    "    #공간을 벗어나면 무시\n",
    "    if nx < 1 or ny < 1 or nx > n or ny > n:\n",
    "        continue\n",
    "    \n",
    "    #이동 수행\n",
    "    x, y = nx,ny\n",
    "    \n",
    "print(x,y)"
   ]
  }
 ],
 "metadata": {
  "kernelspec": {
   "display_name": "py38",
   "language": "python",
   "name": "python3"
  },
  "language_info": {
   "codemirror_mode": {
    "name": "ipython",
    "version": 3
   },
   "file_extension": ".py",
   "mimetype": "text/x-python",
   "name": "python",
   "nbconvert_exporter": "python",
   "pygments_lexer": "ipython3",
   "version": "3.8.16"
  },
  "orig_nbformat": 4
 },
 "nbformat": 4,
 "nbformat_minor": 2
}
