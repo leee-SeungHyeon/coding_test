{
 "cells": [
  {
   "attachments": {},
   "cell_type": "markdown",
   "metadata": {},
   "source": [
    "## 숫자 카드 게임"
   ]
  },
  {
   "attachments": {},
   "cell_type": "markdown",
   "metadata": {},
   "source": [
    "- 숫자가 쓰인 카드들이 N X M 형태로 놓여있다. 이때 N은 행, M은 열의 갯수를 의미한다.\n",
    "- 먼저 뽑고자 하는 카드가 포함되어 있는 행을 선택한다.\n",
    "- 그다음 선택된 행의 포함된 카드들 중 가장 숫자가 낮은 카드를 뽑는다.\n",
    "- 따라서 처음에 카드를 골라낼 행을 선택할때, 이후에 해당 행에서 가장 숫자가 낮은 카드를 뽑을 것을 고려하여 최종적으로 가장 높은 숫자의 카드를 뽑을 수 있도록 전략을 세워야 한다."
   ]
  },
  {
   "cell_type": "code",
   "execution_count": 4,
   "metadata": {},
   "outputs": [
    {
     "name": "stdout",
     "output_type": "stream",
     "text": [
      "2\n"
     ]
    }
   ],
   "source": [
    "#행과 열을 input으로 받음 / 예시로 3x3을 입력\n",
    "n, m = map(int, input().split())\n",
    "\n",
    "result = 0\n",
    "\n",
    "#행부터 입력\n",
    "for i in range(n):\n",
    "    #입력받은 친구들이 자동으로 열이 되는 것임 / 3개의 숫자 입력\n",
    "    data = list(map(int, input().split()))\n",
    "    \n",
    "    #만약 처음으로 입력받은 숫자가 [3, 4, 5] 라면 min_val에는 셋중 가장 작은 3이 입력됨\n",
    "    min_num = min(data)\n",
    "    \n",
    "    #3과 0중 큰놈을 result에 저장하고 이것을 n번마다 반복\n",
    "    result = max(result, min_num)\n",
    "    \n",
    "print(result)"
   ]
  },
  {
   "cell_type": "code",
   "execution_count": 5,
   "metadata": {},
   "outputs": [
    {
     "name": "stdout",
     "output_type": "stream",
     "text": [
      "3\n"
     ]
    }
   ],
   "source": [
    "#다른 버전\n",
    "\n",
    "n, m = map(int, input().split())\n",
    "\n",
    "result = 0\n",
    "\n",
    "for i in range(n):\n",
    "    data = list(map(int, input().split()))\n",
    "    \n",
    "    min_val = 1000\n",
    "    for j in data:\n",
    "        \n",
    "        min_val = min(min_val,j)\n",
    "        \n",
    "    result = max(result, min_val)\n",
    "    \n",
    "print(result)"
   ]
  },
  {
   "cell_type": "code",
   "execution_count": 6,
   "metadata": {},
   "outputs": [
    {
     "name": "stdout",
     "output_type": "stream",
     "text": [
      "2\n"
     ]
    }
   ],
   "source": [
    "# 다른 버전\n",
    "\n",
    "n, m = map(int, input().split())\n",
    "\n",
    "result = 0\n",
    "\n",
    "for i in range(n):\n",
    "    data = list(map(int, input().split()))\n",
    "    \n",
    "    min_val = 1001\n",
    "    for a in data:\n",
    "        min_val = min(min_val, a)\n",
    "    result = max(result, min_val)\n",
    "        \n",
    "print(result)"
   ]
  }
 ],
 "metadata": {
  "kernelspec": {
   "display_name": "py38",
   "language": "python",
   "name": "python3"
  },
  "language_info": {
   "codemirror_mode": {
    "name": "ipython",
    "version": 3
   },
   "file_extension": ".py",
   "mimetype": "text/x-python",
   "name": "python",
   "nbconvert_exporter": "python",
   "pygments_lexer": "ipython3",
   "version": "3.8.16"
  },
  "orig_nbformat": 4
 },
 "nbformat": 4,
 "nbformat_minor": 2
}
